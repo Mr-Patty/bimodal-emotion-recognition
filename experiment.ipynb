{
 "cells": [
  {
   "cell_type": "code",
   "execution_count": null,
   "metadata": {},
   "outputs": [],
   "source": [
    "!git clone https://github.com/Mr-Patty/bimodal-emotion-recognition\n",
    "!pip install soundfile"
   ]
  },
  {
   "cell_type": "code",
   "execution_count": null,
   "metadata": {},
   "outputs": [],
   "source": [
    "# Load the Drive helper and mount\n",
    "from google.colab import drive\n",
    "\n",
    "# This will prompt for authorization.\n",
    "drive.mount('/content/drive')"
   ]
  },
  {
   "cell_type": "code",
   "execution_count": null,
   "metadata": {},
   "outputs": [],
   "source": [
    "!cp drive/'My Drive'/EmotionRecognition/bimodal-emotion-recognition.tar.gz bimodal-emotion-recognition/\n",
    "%cd bimodal-emotion-recognition\n",
    "!tar -C . -xzf bimodal-emotion-recognition.tar.gz\n",
    "!rm bimodal-emotion-recognition.tar.gz\n",
    "!mv Audio_ogg_10 Audio_preprocess"
   ]
  },
  {
   "cell_type": "code",
   "execution_count": 1,
   "metadata": {},
   "outputs": [],
   "source": [
    "import wave\n",
    "import numpy as np\n",
    "import matplotlib.pyplot as plt\n",
    "import matplotlib.ticker as ticker\n",
    "import pandas as pd\n",
    "import math\n",
    "import librosa\n",
    "import json\n",
    "import wave\n",
    "import sys\n",
    "import pickle\n",
    "import sklearn\n",
    "\n",
    "import urllib.request\n",
    "\n",
    "import librosa.display\n",
    "import scipy, matplotlib.pyplot as plt, IPython.display as ipd\n",
    "\n",
    "from scipy.io import wavfile\n",
    "\n",
    "import librosa.display\n",
    "import soundfile as sf\n",
    "\n",
    "import torch\n",
    "import torch.nn as nn\n",
    "from torch import optim\n",
    "from torch.autograd import Variable\n",
    "import torch.nn.functional as F\n",
    "from torch.utils.data import DataLoader\n",
    "from torch.utils.data.sampler import SubsetRandomSampler\n",
    "\n",
    "import os\n",
    "import matplotlib.style as ms\n",
    "from tqdm import tqdm\n",
    "import random\n",
    "\n",
    "from utils import *\n",
    "ms.use('seaborn-muted')\n",
    "%matplotlib inline"
   ]
  },
  {
   "cell_type": "code",
   "execution_count": 2,
   "metadata": {},
   "outputs": [],
   "source": [
    "from multiprocessing import Pool, Lock, Value\n",
    "from functools import wraps, reduce\n",
    "mutex = Lock()\n",
    "n_processed = Value('i', 0)\n",
    "\n",
    "def logger(func):\n",
    "    @wraps(func)\n",
    "    def wrapper(*args, **kwds):\n",
    "        res = func(*args, **kwds)\n",
    "        with mutex:\n",
    "            global n_processed\n",
    "            n_processed.value += 1\n",
    "            if n_processed.value % 5 == 0:\n",
    "                print(f\"\\r{n_processed.value} pages are processed...\",\n",
    "                      end='', flush=True)\n",
    "        return res\n",
    "    return wrapper"
   ]
  },
  {
   "cell_type": "code",
   "execution_count": 3,
   "metadata": {},
   "outputs": [],
   "source": [
    "@logger\n",
    "def feature_extraction(file_emo):\n",
    "    file, emo = file_emo\n",
    "    wav_file_name = 'Audio_ogg_10/' + file + '.ogg'\n",
    "    label = emotion_dict[emo]\n",
    "    y, _sr = librosa.load(wav_file_name, sr=48000)\n",
    "\n",
    "    feature_list = [wav_file_name, label]  # wav_file, label\n",
    "    sig_mean = np.mean(abs(y))\n",
    "    feature_list.append(sig_mean)  # sig_mean\n",
    "    feature_list.append(np.std(y))  # sig_std\n",
    "\n",
    "    rmse = librosa.feature.rms(y + 0.0001)[0]\n",
    "    feature_list.append(np.mean(rmse))  # rmse_mean\n",
    "    feature_list.append(np.std(rmse))  # rmse_std\n",
    "\n",
    "    silence = 0\n",
    "    for e in rmse:\n",
    "        if e <= 0.4 * np.mean(rmse):\n",
    "            silence += 1\n",
    "    silence /= float(len(rmse))\n",
    "    feature_list.append(silence)  # silence\n",
    "\n",
    "    y_harmonic = librosa.effects.hpss(y)[0]\n",
    "    feature_list.append(np.mean(y_harmonic) * 1000)  # harmonic (scaled by 1000)\n",
    "\n",
    "    # based on the pitch detection algorithm mentioned here:\n",
    "    # http://access.feld.cvut.cz/view.php?cisloclanku=2009060001\n",
    "    # cl = 0.45 * sig_mean\n",
    "    # center_clipped = []\n",
    "    # for s in y:\n",
    "    #     if s >= cl:\n",
    "    #         center_clipped.append(s - cl)\n",
    "    #     elif s <= -cl:\n",
    "    #         center_clipped.append(s + cl)\n",
    "    #     elif np.abs(s) < cl:\n",
    "    #         center_clipped.append(0)\n",
    "    # auto_corrs = librosa.core.autocorrelate(np.array(center_clipped))\n",
    "    # feature_list.append(1000 * np.max(auto_corrs)/len(auto_corrs))  # auto_corr_max (scaled by 1000)\n",
    "    # feature_list.append(np.std(auto_corrs))  # auto_corr_std\n",
    "\n",
    "    return feature_list"
   ]
  },
  {
   "cell_type": "code",
   "execution_count": 4,
   "metadata": {},
   "outputs": [],
   "source": [
    "@logger\n",
    "def feature_extraction_next(file_emo):\n",
    "    file, emo = file_emo\n",
    "    wav_file_name = 'Audio_ogg_10/' + file + '.ogg'\n",
    "    label = emotion_dict[emo]\n",
    "    y, _sr = librosa.load(wav_file_name, sr=48000)\n",
    "\n",
    "    feature_list = [wav_file_name, label]  # wav_file, label\n",
    "    sig_mean = np.mean(abs(y))\n",
    "    feature_list.append(sig_mean)  # sig_mean\n",
    "    feature_list.append(np.std(y))  # sig_std\n",
    "\n",
    "#     rmse = librosa.feature.rms(y + 0.0001)[0]\n",
    "#     feature_list.append(np.mean(rmse))  # rmse_mean\n",
    "#     feature_list.append(np.std(rmse))  # rmse_std\n",
    "\n",
    "#     silence = 0\n",
    "#     for e in rmse:\n",
    "#         if e <= 0.4 * np.mean(rmse):\n",
    "#             silence += 1\n",
    "#     silence /= float(len(rmse))\n",
    "#     feature_list.append(silence)  # silence\n",
    "\n",
    "#     y_harmonic = librosa.effects.hpss(y)[0]\n",
    "#     feature_list.append(np.mean(y_harmonic) * 1000)  # harmonic (scaled by 1000)\n",
    "\n",
    "    # based on the pitch detection algorithm mentioned here:\n",
    "    # http://access.feld.cvut.cz/view.php?cisloclanku=2009060001\n",
    "    cl = 0.45 * sig_mean\n",
    "    center_clipped = []\n",
    "    for s in y:\n",
    "        if s >= cl:\n",
    "            center_clipped.append(s - cl)\n",
    "        elif s <= -cl:\n",
    "            center_clipped.append(s + cl)\n",
    "        elif np.abs(s) < cl:\n",
    "            center_clipped.append(0)\n",
    "    auto_corrs = librosa.core.autocorrelate(np.array(center_clipped))\n",
    "    feature_list.append(1000 * np.max(auto_corrs)/len(auto_corrs))  # auto_corr_max (scaled by 1000)\n",
    "    feature_list.append(np.std(auto_corrs))  # auto_corr_std\n",
    "\n",
    "    return feature_list"
   ]
  },
  {
   "cell_type": "code",
   "execution_count": 5,
   "metadata": {},
   "outputs": [],
   "source": [
    "labels_df = pd.read_csv('df_prep.csv').to_numpy()\n",
    "# columns = ['wav_file', 'label', 'sig_mean', 'sig_std', 'rmse_mean', 'rmse_std', 'silence', 'harmonic', 'auto_corr_max', 'auto_corr_std']\n",
    "columns = ['wav_file', 'label','sig_mean', 'sig_std', 'auto_corr_max', 'auto_corr_std']\n",
    "df_features = pd.DataFrame(columns=columns)"
   ]
  },
  {
   "cell_type": "code",
   "execution_count": null,
   "metadata": {},
   "outputs": [],
   "source": [
    "res = []\n",
    "n_processed.value = 0\n",
    "for i in range(10):\n",
    "    with Pool(processes=5) as pool: \n",
    "        res_tmp = pool.map(feature_extraction_next, labels_df[i*1000:(i+1)*1000])\n",
    "        res += res_tmp\n",
    "with Pool(processes=5) as pool:\n",
    "    res_tmp = pool.map(feature_extraction_next, labels_df[10000:])\n",
    "    res += res_tmp"
   ]
  },
  {
   "cell_type": "code",
   "execution_count": null,
   "metadata": {},
   "outputs": [],
   "source": [
    "# res"
   ]
  },
  {
   "cell_type": "code",
   "execution_count": null,
   "metadata": {},
   "outputs": [],
   "source": [
    "for i in res:\n",
    "    x = [i[0][13:-4]] + i[1:]\n",
    "    df_features = df_features.append(pd.DataFrame(x, index=columns).transpose(), ignore_index=True)"
   ]
  },
  {
   "cell_type": "code",
   "execution_count": null,
   "metadata": {},
   "outputs": [],
   "source": [
    "df_features.head()"
   ]
  },
  {
   "cell_type": "code",
   "execution_count": null,
   "metadata": {},
   "outputs": [],
   "source": [
    "df_features.to_csv('audio_features_2.csv', index=False)"
   ]
  },
  {
   "cell_type": "code",
   "execution_count": 1,
   "metadata": {},
   "outputs": [],
   "source": [
    "import pandas as pd\n",
    "import numpy as np\n",
    "import xgboost as xgb\n",
    "import pickle\n",
    "import matplotlib\n",
    "import matplotlib.pyplot as plt\n",
    "from sklearn.svm import SVC, LinearSVC\n",
    "from sklearn.naive_bayes import MultinomialNB\n",
    "from sklearn.linear_model import LogisticRegression\n",
    "from sklearn.ensemble import RandomForestClassifier\n",
    "from sklearn.model_selection import train_test_split\n",
    "from sklearn.neural_network import MLPClassifier\n",
    "from sklearn.metrics import confusion_matrix, f1_score, accuracy_score, precision_score, recall_score\n",
    "from sklearn.preprocessing import MinMaxScaler, OneHotEncoder\n",
    "from sklearn.feature_selection import SelectFromModel\n",
    "from sklearn.utils.class_weight import compute_class_weight\n",
    "import itertools\n",
    "from utils import *"
   ]
  },
  {
   "cell_type": "code",
   "execution_count": 2,
   "metadata": {},
   "outputs": [],
   "source": [
    "df_features = pd.read_csv('audio_features.csv')"
   ]
  },
  {
   "cell_type": "code",
   "execution_count": 3,
   "metadata": {},
   "outputs": [
    {
     "data": {
      "text/html": [
       "<div>\n",
       "<style scoped>\n",
       "    .dataframe tbody tr th:only-of-type {\n",
       "        vertical-align: middle;\n",
       "    }\n",
       "\n",
       "    .dataframe tbody tr th {\n",
       "        vertical-align: top;\n",
       "    }\n",
       "\n",
       "    .dataframe thead th {\n",
       "        text-align: right;\n",
       "    }\n",
       "</style>\n",
       "<table border=\"1\" class=\"dataframe\">\n",
       "  <thead>\n",
       "    <tr style=\"text-align: right;\">\n",
       "      <th></th>\n",
       "      <th>wav_file</th>\n",
       "      <th>label</th>\n",
       "      <th>sig_mean</th>\n",
       "      <th>sig_std</th>\n",
       "      <th>rmse_mean</th>\n",
       "      <th>rmse_std</th>\n",
       "      <th>silence</th>\n",
       "      <th>harmonic</th>\n",
       "    </tr>\n",
       "  </thead>\n",
       "  <tbody>\n",
       "    <tr>\n",
       "      <td>0</td>\n",
       "      <td>00000_22dec_D62_1_mic</td>\n",
       "      <td>0</td>\n",
       "      <td>0.086199</td>\n",
       "      <td>0.149982</td>\n",
       "      <td>0.089917</td>\n",
       "      <td>0.216245</td>\n",
       "      <td>0.667636</td>\n",
       "      <td>0.336260</td>\n",
       "    </tr>\n",
       "    <tr>\n",
       "      <td>1</td>\n",
       "      <td>00001_22dec_D62_1_mic</td>\n",
       "      <td>0</td>\n",
       "      <td>0.074748</td>\n",
       "      <td>0.124903</td>\n",
       "      <td>0.078129</td>\n",
       "      <td>0.177891</td>\n",
       "      <td>0.668384</td>\n",
       "      <td>0.342908</td>\n",
       "    </tr>\n",
       "    <tr>\n",
       "      <td>2</td>\n",
       "      <td>00002_22dec_D62_1_mic</td>\n",
       "      <td>0</td>\n",
       "      <td>0.189439</td>\n",
       "      <td>0.194287</td>\n",
       "      <td>0.197853</td>\n",
       "      <td>0.186369</td>\n",
       "      <td>0.334994</td>\n",
       "      <td>0.355700</td>\n",
       "    </tr>\n",
       "    <tr>\n",
       "      <td>3</td>\n",
       "      <td>00003_22dec_D62_1_mic</td>\n",
       "      <td>0</td>\n",
       "      <td>0.072606</td>\n",
       "      <td>0.135228</td>\n",
       "      <td>0.075778</td>\n",
       "      <td>0.198685</td>\n",
       "      <td>0.694275</td>\n",
       "      <td>0.338951</td>\n",
       "    </tr>\n",
       "    <tr>\n",
       "      <td>4</td>\n",
       "      <td>00004_22dec_D62_1_mic</td>\n",
       "      <td>0</td>\n",
       "      <td>0.069104</td>\n",
       "      <td>0.078659</td>\n",
       "      <td>0.073825</td>\n",
       "      <td>0.085531</td>\n",
       "      <td>0.379920</td>\n",
       "      <td>0.345990</td>\n",
       "    </tr>\n",
       "  </tbody>\n",
       "</table>\n",
       "</div>"
      ],
      "text/plain": [
       "                wav_file  label  sig_mean   sig_std  rmse_mean  rmse_std  \\\n",
       "0  00000_22dec_D62_1_mic      0  0.086199  0.149982   0.089917  0.216245   \n",
       "1  00001_22dec_D62_1_mic      0  0.074748  0.124903   0.078129  0.177891   \n",
       "2  00002_22dec_D62_1_mic      0  0.189439  0.194287   0.197853  0.186369   \n",
       "3  00003_22dec_D62_1_mic      0  0.072606  0.135228   0.075778  0.198685   \n",
       "4  00004_22dec_D62_1_mic      0  0.069104  0.078659   0.073825  0.085531   \n",
       "\n",
       "    silence  harmonic  \n",
       "0  0.667636  0.336260  \n",
       "1  0.668384  0.342908  \n",
       "2  0.334994  0.355700  \n",
       "3  0.694275  0.338951  \n",
       "4  0.379920  0.345990  "
      ]
     },
     "execution_count": 3,
     "metadata": {},
     "output_type": "execute_result"
    }
   ],
   "source": [
    "scalar = MinMaxScaler()\n",
    "df_features[df_features.columns[2:]] = scalar.fit_transform(df_features[df_features.columns[2:]])\n",
    "df_features.head()"
   ]
  },
  {
   "cell_type": "code",
   "execution_count": 4,
   "metadata": {},
   "outputs": [
    {
     "name": "stdout",
     "output_type": "stream",
     "text": [
      "(8181, 8) (2046, 8)\n"
     ]
    }
   ],
   "source": [
    "x_train, x_test = train_test_split(df_features, test_size=0.20)\n",
    "\n",
    "x_train.to_csv('audio_train.csv', index=False)\n",
    "x_test.to_csv('audio_test.csv', index=False)\n",
    "y_train = x_train['label'].astype('int')\n",
    "y_test = x_test['label'].astype('int')\n",
    "\n",
    "print(x_train.shape, x_test.shape)\n",
    "del x_train['label']\n",
    "del x_test['label']\n",
    "del x_train['wav_file']\n",
    "del x_test['wav_file']"
   ]
  },
  {
   "cell_type": "code",
   "execution_count": 6,
   "metadata": {},
   "outputs": [
    {
     "name": "stdout",
     "output_type": "stream",
     "text": [
      "Test Set Accuracy =  0.302\n",
      "Test Set F-score =  0.274\n",
      "Test Set Precision =  0.302\n",
      "Test Set Recall =  0.274\n",
      "Confusion matrix, without normalization\n",
      "[[ 99  15 107   7  16  45  16]\n",
      " [ 23  37  78  13   5  37  22]\n",
      " [ 65  13 249  15  25  64  48]\n",
      " [ 15   9  73  33  10  24  29]\n",
      " [ 51   7  90  15  34  34  15]\n",
      " [ 50  10 155  20  24  59  44]\n",
      " [  8  15  72  20   3  22 106]]\n"
     ]
    },
    {
     "data": {
      "image/png": "[encoded data removed]",
      "text/plain": [
       "<Figure size 432x288 with 2 Axes>"
      ]
     },
     "metadata": {
      "needs_background": "light"
     },
     "output_type": "display_data"
    }
   ],
   "source": [
    "rf_classifier = RandomForestClassifier(n_estimators=1200, min_samples_split=25)\n",
    "rf_classifier.fit(x_train, y_train)\n",
    "\n",
    "# Predict\n",
    "pred_probs = rf_classifier.predict_proba(x_test)\n",
    "\n",
    "# Results\n",
    "display_results(y_test, pred_probs)\n",
    "\n",
    "with open('rf_classifier.pkl', 'wb') as f:\n",
    "    pickle.dump(pred_probs, f)"
   ]
  },
  {
   "cell_type": "code",
   "execution_count": 11,
   "metadata": {},
   "outputs": [],
   "source": []
  },
  {
   "cell_type": "code",
   "execution_count": null,
   "metadata": {},
   "outputs": [],
   "source": []
  }
 ],
 "metadata": {
  "kernelspec": {
   "display_name": "Python 3",
   "language": "python",
   "name": "python3"
  },
  "language_info": {
   "codemirror_mode": {
    "name": "ipython",
    "version": 3
   },
   "file_extension": ".py",
   "mimetype": "text/x-python",
   "name": "python",
   "nbconvert_exporter": "python",
   "pygments_lexer": "ipython3",
   "version": "3.7.4"
  }
 },
 "nbformat": 4,
 "nbformat_minor": 4
}
