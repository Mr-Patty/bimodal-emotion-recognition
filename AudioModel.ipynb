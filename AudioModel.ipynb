{
  "nbformat": 4,
  "nbformat_minor": 0,
  "metadata": {
    "kernelspec": {
      "display_name": "Python 3",
      "language": "python",
      "name": "python3"
    },
    "language_info": {
      "codemirror_mode": {
        "name": "ipython",
        "version": 3
      },
      "file_extension": ".py",
      "mimetype": "text/x-python",
      "name": "python",
      "nbconvert_exporter": "python",
      "pygments_lexer": "ipython3",
      "version": "3.7.4"
    },
    "colab": {
      "name": "AudioModel.ipynb",
      "provenance": []
    },
    "accelerator": "GPU"
  },
  "cells": [
    {
      "cell_type": "code",
      "metadata": {
        "id": "xZH9sEiaUN1g",
        "colab_type": "code",
        "colab": {
          "base_uri": "https://localhost:8080/",
          "height": 153
        },
        "outputId": "f581933b-f4be-4b4a-9400-355ac6c13e33"
      },
      "source": [
        "!git clone https://github.com/Mr-Patty/bimodal-emotion-recognition\n",
        "# !pip install soundfile"
      ],
      "execution_count": 1,
      "outputs": [
        {
          "output_type": "stream",
          "text": [
            "Cloning into 'bimodal-emotion-recognition'...\n",
            "remote: Enumerating objects: 103, done.\u001b[K\n",
            "remote: Counting objects: 100% (103/103), done.\u001b[K\n",
            "remote: Compressing objects: 100% (84/84), done.\u001b[K\n",
            "remote: Total 103 (delta 44), reused 71 (delta 15), pack-reused 0\u001b[K\n",
            "Receiving objects: 100% (103/103), 3.12 MiB | 15.82 MiB/s, done.\n",
            "Resolving deltas: 100% (44/44), done.\n"
          ],
          "name": "stdout"
        }
      ]
    },
    {
      "cell_type": "code",
      "metadata": {
        "id": "MxdVtSXbUN1t",
        "colab_type": "code",
        "colab": {
          "base_uri": "https://localhost:8080/",
          "height": 134
        },
        "outputId": "09456bb2-84c7-4bd8-c1a8-3c4fb1b89866"
      },
      "source": [
        "# Load the Drive helper and mount\n",
        "from google.colab import drive\n",
        "\n",
        "# This will prompt for authorization.\n",
        "drive.mount('/content/drive')"
      ],
      "execution_count": 2,
      "outputs": [
        {
          "output_type": "stream",
          "text": [
            "Go to this URL in a browser: https://accounts.google.com/o/oauth2/auth?client_id=947318989803-6bn6qk8qdgf4n4g3pfee6491hc0brc4i.apps.googleusercontent.com&redirect_uri=urn%3aietf%3awg%3aoauth%3a2.0%3aoob&response_type=code&scope=email%20https%3a%2f%2fwww.googleapis.com%2fauth%2fdocs.test%20https%3a%2f%2fwww.googleapis.com%2fauth%2fdrive%20https%3a%2f%2fwww.googleapis.com%2fauth%2fdrive.photos.readonly%20https%3a%2f%2fwww.googleapis.com%2fauth%2fpeopleapi.readonly\n",
            "\n",
            "Enter your authorization code:\n",
            "··········\n",
            "Mounted at /content/drive\n"
          ],
          "name": "stdout"
        }
      ]
    },
    {
      "cell_type": "code",
      "metadata": {
        "id": "2z6pKQ0qUN1-",
        "colab_type": "code",
        "colab": {
          "base_uri": "https://localhost:8080/",
          "height": 36
        },
        "outputId": "ac9e9605-021e-41bd-9e94-328f26f2725f"
      },
      "source": [
        "!cp drive/'My Drive'/EmotionRecognition/bimodal-emotion-recognition.tar.gz bimodal-emotion-recognition/\n",
        "%cd bimodal-emotion-recognition\n",
        "!cp ../drive/'My Drive'/EmotionRecognition/df_prep.csv .\n",
        "!tar -C . -xzf bimodal-emotion-recognition.tar.gz\n",
        "!rm bimodal-emotion-recognition.tar.gz"
      ],
      "execution_count": 3,
      "outputs": [
        {
          "output_type": "stream",
          "text": [
            "/content/bimodal-emotion-recognition\n"
          ],
          "name": "stdout"
        }
      ]
    },
    {
      "cell_type": "code",
      "metadata": {
        "id": "VDE2n05TdwIS",
        "colab_type": "code",
        "colab": {
          "base_uri": "https://localhost:8080/",
          "height": 36
        },
        "outputId": "80ae8cff-66ae-4601-91fa-f253da032424"
      },
      "source": [
        "%cd bimodal-emotion-recognition"
      ],
      "execution_count": 1,
      "outputs": [
        {
          "output_type": "stream",
          "text": [
            "/content/bimodal-emotion-recognition\n"
          ],
          "name": "stdout"
        }
      ]
    },
    {
      "cell_type": "code",
      "metadata": {
        "id": "p-3VOHmIXWZ_",
        "colab_type": "code",
        "colab": {
          "base_uri": "https://localhost:8080/",
          "height": 114
        },
        "outputId": "f3f37655-cb4c-4340-f3e9-179b2832a09e"
      },
      "source": [
        "!ls"
      ],
      "execution_count": 2,
      "outputs": [
        {
          "output_type": "stream",
          "text": [
            "AudioModel.ipynb  diploma.ipynb        preprocess.py\tTrain_data\n",
            "chkpt\t\t  experiment.ipynb     processing.py\tutils\n",
            "config\t\t  logs\t\t       README.md\tutils.py\n",
            "datasets\t  models.py\t       test.png\n",
            "df_prep.csv\t  Preprocessing.ipynb  TextModel.ipynb\n"
          ],
          "name": "stdout"
        }
      ]
    },
    {
      "cell_type": "code",
      "metadata": {
        "id": "eNbfCWoFUN2I",
        "colab_type": "code",
        "colab": {}
      },
      "source": [
        "import os\n",
        "import glob\n",
        "import torch\n",
        "import random\n",
        "import numpy as np\n",
        "from torch.utils.data import Dataset, DataLoader\n",
        "from utils.hparams import HParam\n",
        "from datasets.dataloader import create_dataloader, create_dataset\n",
        "\n",
        "from utils.utils import read_wav_np\n",
        "import wave\n",
        "import numpy as np\n",
        "import matplotlib.pyplot as plt\n",
        "import matplotlib.ticker as ticker\n",
        "import pandas as pd\n",
        "import math\n",
        "import librosa\n",
        "import json\n",
        "import wave\n",
        "import sys\n",
        "import pickle\n",
        "import sklearn\n",
        "\n",
        "import urllib.request\n",
        "\n",
        "import librosa.display\n",
        "import scipy, matplotlib.pyplot as plt, IPython.display as ipd\n",
        "\n",
        "from scipy.io import wavfile\n",
        "\n",
        "import librosa.display\n",
        "# import soundfile as sf\n",
        "\n",
        "import torch\n",
        "import torch.nn as nn\n",
        "from torch import optim\n",
        "from torch.autograd import Variable\n",
        "import torch.nn.functional as F\n",
        "from torch.utils.data import DataLoader\n",
        "from torch.utils.data.sampler import SubsetRandomSampler\n",
        "\n",
        "import os\n",
        "import matplotlib.style as ms\n",
        "from tqdm import tqdm\n",
        "import random\n",
        "import logging\n",
        "import time\n",
        "\n",
        "from utils.train import *\n",
        "# from models import *\n",
        "ms.use('seaborn-muted')\n",
        "%matplotlib inline"
      ],
      "execution_count": 0,
      "outputs": []
    },
    {
      "cell_type": "code",
      "metadata": {
        "id": "5ZRZCnuSUN2Q",
        "colab_type": "code",
        "colab": {}
      },
      "source": [
        "hp = HParam('config/default.yaml')\n",
        "with open('config/default.yaml', 'r') as f:\n",
        "    hp_str = ''.join(f.readlines())"
      ],
      "execution_count": 0,
      "outputs": []
    },
    {
      "cell_type": "code",
      "metadata": {
        "id": "qitik1qIUN2Y",
        "colab_type": "code",
        "colab": {}
      },
      "source": [
        "pt_dir = os.path.join(hp.log.chkpt_dir, 'AudioModel')\n",
        "log_dir = os.path.join(hp.log.log_dir, 'AudioModel')\n",
        "os.makedirs(pt_dir, exist_ok=True)\n",
        "os.makedirs(log_dir, exist_ok=True)"
      ],
      "execution_count": 0,
      "outputs": []
    },
    {
      "cell_type": "code",
      "metadata": {
        "id": "ZZuJ-z-yUN2h",
        "colab_type": "code",
        "colab": {}
      },
      "source": [
        "logging.basicConfig(\n",
        "    level=logging.INFO,\n",
        "    format='%(asctime)s - %(levelname)s - %(message)s',\n",
        "    handlers=[\n",
        "        logging.FileHandler(os.path.join(log_dir,\n",
        "            '%s-%d.log' % ('AudioModel', time.time()))),\n",
        "        logging.StreamHandler()\n",
        "    ]\n",
        ")\n",
        "logger = logging.getLogger()"
      ],
      "execution_count": 0,
      "outputs": []
    },
    {
      "cell_type": "code",
      "metadata": {
        "id": "afrnQ2NRUN2n",
        "colab_type": "code",
        "colab": {}
      },
      "source": [
        "assert hp.audio.hop_length == 256, \\\n",
        "    'hp.audio.hop_length must be equal to 256, got %d' % hp.audio.hop_length\n",
        "assert hp.data.train != '' \\\n",
        "    'hp.data.train and hp.data.validation can\\'t be empty: please fix %s' % 'config/default.yaml'"
      ],
      "execution_count": 0,
      "outputs": []
    },
    {
      "cell_type": "code",
      "metadata": {
        "id": "zDy1vLAAUN20",
        "colab_type": "code",
        "colab": {}
      },
      "source": [
        "# trainset = create_dataset(hp, 'df_prep.csv', True)\n",
        "# train_loader = DataLoader(dataset, num_workers=1, shuffle=False,\n",
        "#                               batch_size=1)"
      ],
      "execution_count": 0,
      "outputs": []
    },
    {
      "cell_type": "code",
      "metadata": {
        "id": "MOuZ7TbW6SLZ",
        "colab_type": "code",
        "colab": {}
      },
      "source": [
        "class AttentionRNNModel(torch.nn.Module):\n",
        "    def __init__(self, batch_size, output_size, hidden_size, embedding_length, bidirectional=False, num_layers=1, dropout=0.5):\n",
        "        super(AttentionRNNModel, self).__init__()\n",
        "\n",
        "        \"\"\"\n",
        "        Arguments\n",
        "        ---------\n",
        "        batch_size : Size of the batch which is same as the batch_size of the data returned by the TorchText BucketIterator\n",
        "        output_size : 2 = (pos, neg)\n",
        "        hidden_sie : Size of the hidden_state of the LSTM\n",
        "        vocab_size : Size of the vocabulary containing unique words\n",
        "        embedding_length : Embeddding dimension of GloVe word embeddings\n",
        "        weights : Pre-trained GloVe word_embeddings which we will use to create our word_embedding look-up table \n",
        "\n",
        "        --------\n",
        "\n",
        "        \"\"\"\n",
        "\n",
        "        self.batch_size = batch_size\n",
        "        self.output_size = output_size\n",
        "        self.hidden_size = hidden_size\n",
        "#         self.vocab_size = vocab_size\n",
        "        self.embedding_length = embedding_length\n",
        "        self.bidirectional = bidirectional\n",
        "        self.num_layers = num_layers\n",
        "\n",
        "#         self.word_embeddings = nn.Embedding(vocab_size, embedding_length)\n",
        "#         self.word_embeddings.weights = nn.Parameter(weights, requires_grad=False)\n",
        "        self.lstm = nn.LSTM(embedding_length, hidden_size, bidirectional=self.bidirectional, num_layers=self.num_layers)\n",
        "        self.label = nn.Linear(hidden_size * 2 if self.bidirectional else hidden_size, output_size)\n",
        "        self.dropout = nn.Dropout(dropout)\n",
        "        #self.attn_fc_layer = nn.Linear()\n",
        "\n",
        "    def attention_net(self, lstm_output, final_state):\n",
        "\n",
        "        \"\"\" \n",
        "        Now we will incorporate Attention mechanism in our LSTM model. In this new model, we will use attention to compute soft alignment score corresponding\n",
        "        between each of the hidden_state and the last hidden_state of the LSTM. We will be using torch.bmm for the batch matrix multiplication.\n",
        "\n",
        "        Arguments\n",
        "        ---------\n",
        "\n",
        "        lstm_output : Final output of the LSTM which contains hidden layer outputs for each sequence.\n",
        "        final_state : Final time-step hidden state (h_n) of the LSTM\n",
        "\n",
        "        ---------\n",
        "    \n",
        "        Returns : It performs attention mechanism by first computing weights for each of the sequence present in lstm_output and and then finally computing the\n",
        "                  new hidden state.\n",
        "\n",
        "        Tensor Size :\n",
        "                hidden.size() = (batch_size, hidden_size)\n",
        "                attn_weights.size() = (batch_size, num_seq)\n",
        "                soft_attn_weights.size() = (batch_size, num_seq)\n",
        "                new_hidden_state.size() = (batch_size, hidden_size)\n",
        "\n",
        "        \"\"\"\n",
        "\n",
        "        hidden = final_state.squeeze(0)\n",
        "        attn_weights = torch.bmm(lstm_output, hidden.unsqueeze(2)).squeeze(2)\n",
        "        soft_attn_weights = F.softmax(attn_weights, 1)\n",
        "        new_hidden_state = torch.bmm(lstm_output.transpose(1, 2), soft_attn_weights.unsqueeze(2)).squeeze(2)\n",
        "\n",
        "        return new_hidden_state\n",
        "\n",
        "    def forward(self, input, batch_size=None):\n",
        "\n",
        "        \"\"\" \n",
        "        Parameters\n",
        "        ----------\n",
        "        input_sentence: input_sentence of shape = (batch_size, num_sequences)\n",
        "        batch_size : default = None. Used only for prediction on a single sentence after training (batch_size = 1)\n",
        "    \n",
        "        Returns\n",
        "        -------\n",
        "        Output of the linear layer containing logits for pos & neg class which receives its input as the new_hidden_state which is basically the output of the Attention network.\n",
        "        final_output.shape = (batch_size, output_size)\n",
        "\n",
        "        \"\"\"\n",
        "\n",
        "#         input = self.word_embeddings(input_sentences)\n",
        "        input = input.permute(1, 0, 2)\n",
        "        # h_0 = torch.zeros(1, self.batch_size, self.hidden_size)\n",
        "        # c_0 = torch.zeros(1, self.batch_size, self.hidden_size)\n",
        "\n",
        "        output, (final_hidden_state, final_cell_state) = self.lstm(input) # final_hidden_state.size() = (1, batch_size, hidden_size) \n",
        "        # output = output.permute(0, 2, 1) # output.size() = (batch_size, num_seq, hidden_size)\n",
        "\n",
        "        # attn_output = self.attention_net(output, final_hidden_state)\n",
        "        final_hidden_state = self.dropout(torch.cat((final_hidden_state[-2,:,:], final_hidden_state[-1,:,:]), dim = 1))\n",
        "        logits = self.label(final_hidden_state)\n",
        "\n",
        "        return logits"
      ],
      "execution_count": 0,
      "outputs": []
    },
    {
      "cell_type": "code",
      "metadata": {
        "id": "VyQmro3dUN3C",
        "colab_type": "code",
        "colab": {}
      },
      "source": [
        ""
      ],
      "execution_count": 0,
      "outputs": []
    },
    {
      "cell_type": "code",
      "metadata": {
        "id": "VcwORjhqcTT8",
        "colab_type": "code",
        "colab": {}
      },
      "source": [
        "# device = torch.device(\"cuda:0\" if torch.cuda.is_available() else \"cpu\")\n",
        "# print(device)\n",
        "# train_loader = torch.utils.data.DataLoader(dataset=trainset, batch_size=hp.train.batch_size, shuffle=True,\n",
        "#             num_workers=hp.train.num_workers, pin_memory=True, drop_last=False)\n",
        "# model = model.to(device)\n",
        "# loss_func = nn.CrossEntropyLoss()\n",
        "# for x, y in train_loader:\n",
        "#     # y_pred = model(x)\n",
        "#     x = x.to(device)\n",
        "#     y = y.to(device)\n",
        "#     y_pred = model(x)\n",
        "#     loss = loss_func(y_pred, y)\n",
        "#     print(y_pred.shape)\n",
        "#     print(y)\n",
        "#     # print(x.shape)\n",
        "#     break"
      ],
      "execution_count": 0,
      "outputs": []
    },
    {
      "cell_type": "code",
      "metadata": {
        "id": "QANdSkkYUN3I",
        "colab_type": "code",
        "colab": {
          "base_uri": "https://localhost:8080/",
          "height": 449
        },
        "outputId": "b88c00c5-ada1-4344-a07d-3a765d4d3842"
      },
      "source": [
        "Batch = 1\n",
        "model = AttentionRNNModel(batch_size=Batch, output_size=7, hidden_size=32, embedding_length=80, bidirectional=True)\n",
        "trainset = create_dataset(hp, 'df_prep.csv', True)\n",
        "device = torch.device(\"cuda:0\" if torch.cuda.is_available() else \"cpu\")\n",
        "train_loss, val_loss, train_acces, test_acces, best_model = train(model, trainset, device, batch_size=Batch, n_epoch=50, validation_split=.3)"
      ],
      "execution_count": 37,
      "outputs": [
        {
          "output_type": "stream",
          "text": [
            "\n",
            "  0%|          | 0/7159 [00:00<?, ?it/s]\u001b[A\n",
            "  0%|          | 1/7159 [00:00<16:47,  7.11it/s]\u001b[A\n",
            "  0%|          | 2/7159 [00:00<38:51,  3.07it/s]\u001b[A\n",
            "  0%|          | 3/7159 [00:01<34:15,  3.48it/s]\u001b[A\n",
            "  0%|          | 4/7159 [00:01<44:18,  2.69it/s]\u001b[A\n",
            "  0%|          | 5/7159 [00:01<38:34,  3.09it/s]\u001b[A\n",
            "  0%|          | 6/7159 [00:02<36:05,  3.30it/s]\u001b[A\n",
            "  0%|          | 7/7159 [00:02<31:31,  3.78it/s]\u001b[A\n",
            "  0%|          | 8/7159 [00:02<25:53,  4.60it/s]\u001b[A\n",
            "  0%|          | 9/7159 [00:02<24:23,  4.89it/s]\u001b[A\n",
            "  0%|          | 11/7159 [00:02<19:58,  5.96it/s]\u001b[A"
          ],
          "name": "stderr"
        },
        {
          "output_type": "stream",
          "text": [
            "Keyboard interrupt, continue work\n"
          ],
          "name": "stdout"
        },
        {
          "output_type": "error",
          "ename": "TypeError",
          "evalue": "ignored",
          "traceback": [
            "\u001b[0;31m---------------------------------------------------------------------------\u001b[0m",
            "\u001b[0;31mTypeError\u001b[0m                                 Traceback (most recent call last)",
            "\u001b[0;32m<ipython-input-37-cce49d42fa09>\u001b[0m in \u001b[0;36m<module>\u001b[0;34m()\u001b[0m\n\u001b[1;32m      3\u001b[0m \u001b[0mtrainset\u001b[0m \u001b[0;34m=\u001b[0m \u001b[0mcreate_dataset\u001b[0m\u001b[0;34m(\u001b[0m\u001b[0mhp\u001b[0m\u001b[0;34m,\u001b[0m \u001b[0;34m'df_prep.csv'\u001b[0m\u001b[0;34m,\u001b[0m \u001b[0;32mTrue\u001b[0m\u001b[0;34m)\u001b[0m\u001b[0;34m\u001b[0m\u001b[0;34m\u001b[0m\u001b[0m\n\u001b[1;32m      4\u001b[0m \u001b[0mdevice\u001b[0m \u001b[0;34m=\u001b[0m \u001b[0mtorch\u001b[0m\u001b[0;34m.\u001b[0m\u001b[0mdevice\u001b[0m\u001b[0;34m(\u001b[0m\u001b[0;34m\"cuda:0\"\u001b[0m \u001b[0;32mif\u001b[0m \u001b[0mtorch\u001b[0m\u001b[0;34m.\u001b[0m\u001b[0mcuda\u001b[0m\u001b[0;34m.\u001b[0m\u001b[0mis_available\u001b[0m\u001b[0;34m(\u001b[0m\u001b[0;34m)\u001b[0m \u001b[0;32melse\u001b[0m \u001b[0;34m\"cpu\"\u001b[0m\u001b[0;34m)\u001b[0m\u001b[0;34m\u001b[0m\u001b[0;34m\u001b[0m\u001b[0m\n\u001b[0;32m----> 5\u001b[0;31m \u001b[0mtrain_loss\u001b[0m\u001b[0;34m,\u001b[0m \u001b[0mval_loss\u001b[0m\u001b[0;34m,\u001b[0m \u001b[0mtrain_acces\u001b[0m\u001b[0;34m,\u001b[0m \u001b[0mtest_acces\u001b[0m\u001b[0;34m,\u001b[0m \u001b[0mbest_model\u001b[0m \u001b[0;34m=\u001b[0m \u001b[0mtrain\u001b[0m\u001b[0;34m(\u001b[0m\u001b[0mmodel\u001b[0m\u001b[0;34m,\u001b[0m \u001b[0mtrainset\u001b[0m\u001b[0;34m,\u001b[0m \u001b[0mdevice\u001b[0m\u001b[0;34m,\u001b[0m \u001b[0mbatch_size\u001b[0m\u001b[0;34m=\u001b[0m\u001b[0mBatch\u001b[0m\u001b[0;34m,\u001b[0m \u001b[0mn_epoch\u001b[0m\u001b[0;34m=\u001b[0m\u001b[0;36m50\u001b[0m\u001b[0;34m,\u001b[0m \u001b[0mvalidation_split\u001b[0m\u001b[0;34m=\u001b[0m\u001b[0;36m.3\u001b[0m\u001b[0;34m)\u001b[0m\u001b[0;34m\u001b[0m\u001b[0;34m\u001b[0m\u001b[0m\n\u001b[0m",
            "\u001b[0;31mTypeError\u001b[0m: 'NoneType' object is not iterable"
          ]
        }
      ]
    },
    {
      "cell_type": "code",
      "metadata": {
        "id": "n-bD7EQ4GODo",
        "colab_type": "code",
        "colab": {}
      },
      "source": [
        "!cp audio-model.pt drive/'My Drive'/EmotionRecognition/"
      ],
      "execution_count": 0,
      "outputs": []
    }
  ]
}